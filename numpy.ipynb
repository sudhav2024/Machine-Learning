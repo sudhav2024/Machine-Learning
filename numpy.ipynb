{
  "nbformat": 4,
  "nbformat_minor": 0,
  "metadata": {
    "colab": {
      "provenance": [],
      "authorship_tag": "ABX9TyPlrCopQznAC/EbD2TwnH2C",
      "include_colab_link": true
    },
    "kernelspec": {
      "name": "python3",
      "display_name": "Python 3"
    },
    "language_info": {
      "name": "python"
    }
  },
  "cells": [
    {
      "cell_type": "markdown",
      "metadata": {
        "id": "view-in-github",
        "colab_type": "text"
      },
      "source": [
        "<a href=\"https://colab.research.google.com/github/sudhav2024/Machine-Learning/blob/main/numpy.ipynb\" target=\"_parent\"><img src=\"https://colab.research.google.com/assets/colab-badge.svg\" alt=\"Open In Colab\"/></a>"
      ]
    },
    {
      "cell_type": "code",
      "execution_count": null,
      "metadata": {
        "colab": {
          "base_uri": "https://localhost:8080/"
        },
        "id": "C5AKln4Y5Fx-",
        "outputId": "1ab586fb-218f-4b76-fa7e-9d63ea940779"
      },
      "outputs": [
        {
          "output_type": "stream",
          "name": "stdout",
          "text": [
            "[1 2 3 4 5]\n"
          ]
        }
      ],
      "source": [
        "import numpy as np\n",
        "arr = np.array([1,2,3,4,5])\n",
        "print(arr)"
      ]
    },
    {
      "cell_type": "code",
      "source": [
        "import sys\n",
        "s= range(1000)\n",
        "print(\"Size of each element of list in bytes: \",sys.getsizeof(s))"
      ],
      "metadata": {
        "colab": {
          "base_uri": "https://localhost:8080/"
        },
        "id": "57i-dTJC5tEG",
        "outputId": "2b5482f7-9abb-4a5c-9b08-69d4138ae30c"
      },
      "execution_count": null,
      "outputs": [
        {
          "output_type": "stream",
          "name": "stdout",
          "text": [
            "Size of each element of list in bytes:  48\n"
          ]
        }
      ]
    },
    {
      "cell_type": "code",
      "source": [
        "print(\"Size of the whole list bytes: \",sys.getsizeof(s)*len(s))"
      ],
      "metadata": {
        "colab": {
          "base_uri": "https://localhost:8080/"
        },
        "id": "6TjgSkE66Iet",
        "outputId": "78454636-c2c1-4977-cd7d-6d730176b199"
      },
      "execution_count": null,
      "outputs": [
        {
          "output_type": "stream",
          "name": "stdout",
          "text": [
            "Size of the whole list bytes:  48000\n"
          ]
        }
      ]
    },
    {
      "cell_type": "code",
      "source": [
        "D= np.arange(1000)\n",
        "print(\"Size of each element of the Numpy array in bytes: \",D.itemsize)\n",
        "print(\"Size of the whole Numpy array in bytes: \",D.size*D.itemsize)\n"
      ],
      "metadata": {
        "colab": {
          "base_uri": "https://localhost:8080/"
        },
        "id": "xz97odfV6hCQ",
        "outputId": "2537a43c-e99a-4bf7-fa6c-c1e20b4d5024"
      },
      "execution_count": null,
      "outputs": [
        {
          "output_type": "stream",
          "name": "stdout",
          "text": [
            "Size of each element of the Numpy array in bytes:  8\n",
            "Size of the whole Numpy array in bytes:  8000\n"
          ]
        }
      ]
    },
    {
      "cell_type": "code",
      "source": [
        "arr = np.array(42)\n",
        "print(arr)"
      ],
      "metadata": {
        "colab": {
          "base_uri": "https://localhost:8080/"
        },
        "id": "osEUbkDW7wjC",
        "outputId": "57e7f428-721d-4859-839c-bda26e2139b1"
      },
      "execution_count": null,
      "outputs": [
        {
          "output_type": "stream",
          "name": "stdout",
          "text": [
            "42\n"
          ]
        }
      ]
    },
    {
      "cell_type": "code",
      "source": [
        "arr =np.array([[[1,2,3],[4,5,6]],[[1,2,3],[4,5,6]]])\n",
        "print(arr)"
      ],
      "metadata": {
        "colab": {
          "base_uri": "https://localhost:8080/"
        },
        "id": "bpSRGH498P6-",
        "outputId": "00f06aac-8598-40f7-ef51-d68d39ca7d1d"
      },
      "execution_count": null,
      "outputs": [
        {
          "output_type": "stream",
          "name": "stdout",
          "text": [
            "[[[1 2 3]\n",
            "  [4 5 6]]\n",
            "\n",
            " [[1 2 3]\n",
            "  [4 5 6]]]\n"
          ]
        }
      ]
    },
    {
      "cell_type": "code",
      "source": [
        "arr = np.array([[1,2,3],[4,5,6]])\n",
        "print(arr)"
      ],
      "metadata": {
        "colab": {
          "base_uri": "https://localhost:8080/"
        },
        "id": "Cs5zXg9273Tr",
        "outputId": "5204ce9f-fc1f-44cb-f4b1-ff67bdcc5a54"
      },
      "execution_count": null,
      "outputs": [
        {
          "output_type": "stream",
          "name": "stdout",
          "text": [
            "[[1 2 3]\n",
            " [4 5 6]]\n"
          ]
        }
      ]
    },
    {
      "cell_type": "code",
      "source": [
        "zeros_arr = np.zeros((5,2))\n",
        "eros_arr = np.zeros(5)\n",
        "print(zeros_arr)"
      ],
      "metadata": {
        "colab": {
          "base_uri": "https://localhost:8080/"
        },
        "id": "Z1-xWvyo8Omc",
        "outputId": "daa343f0-edbf-4d5a-f60f-b3107a3ad017"
      },
      "execution_count": null,
      "outputs": [
        {
          "output_type": "stream",
          "name": "stdout",
          "text": [
            "[[0. 0.]\n",
            " [0. 0.]\n",
            " [0. 0.]\n",
            " [0. 0.]\n",
            " [0. 0.]]\n"
          ]
        }
      ]
    },
    {
      "cell_type": "code",
      "source": [
        "zeros_arr = np.zeros((2,3))\n",
        "print(zeros_arr)\n",
        "print(\"Data types of the array:\",zeros_arr.dtype)\n",
        "zeros_arr_int = np.zeros((2,3), dtype=int)\n",
        "print(\"\\nArray of zeros with integer elements: \\n\",zeros_arr_int)"
      ],
      "metadata": {
        "colab": {
          "base_uri": "https://localhost:8080/"
        },
        "id": "-N7QVZi49iCk",
        "outputId": "b9a3edff-abc1-4f7d-d9e9-d9280d25ed0c"
      },
      "execution_count": null,
      "outputs": [
        {
          "output_type": "stream",
          "name": "stdout",
          "text": [
            "[[0. 0. 0.]\n",
            " [0. 0. 0.]]\n",
            "Data types of the array: float64\n",
            "\n",
            "Array of zeros with integer elements: \n",
            " [[0 0 0]\n",
            " [0 0 0]]\n"
          ]
        }
      ]
    },
    {
      "cell_type": "code",
      "source": [
        "ones_arr = np.ones(6)\n",
        "print(ones_arr)\n",
        "print(\"\\nData type of the array: \",ones_arr.dtype)"
      ],
      "metadata": {
        "colab": {
          "base_uri": "https://localhost:8080/"
        },
        "id": "jFFmJmkL-Yhp",
        "outputId": "9dfdde83-cb15-4acf-d22b-a9ac419d6877"
      },
      "execution_count": null,
      "outputs": [
        {
          "output_type": "stream",
          "name": "stdout",
          "text": [
            "[1. 1. 1. 1. 1. 1.]\n",
            "\n",
            "Data type of the array:  float64\n"
          ]
        }
      ]
    },
    {
      "cell_type": "code",
      "source": [
        "empty_arr = np.empty((3,2))\n",
        "print(empty_arr)\n",
        "print(\"\\nData type of the array: \",empty_arr.dtype)"
      ],
      "metadata": {
        "colab": {
          "base_uri": "https://localhost:8080/"
        },
        "id": "p6UsEiSM_Baz",
        "outputId": "db196810-5552-472a-c6c0-85d9ed42fb54"
      },
      "execution_count": null,
      "outputs": [
        {
          "output_type": "stream",
          "name": "stdout",
          "text": [
            "[[1. 1.]\n",
            " [1. 1.]\n",
            " [1. 1.]]\n",
            "\n",
            "Data type of the array:  float64\n"
          ]
        }
      ]
    },
    {
      "cell_type": "code",
      "source": [
        "identity_matrix = np.eye(4)\n",
        "print(identity_matrix)\n",
        "identity_matrix = np.eye(4)\n",
        "print(\"\\n\",identity_matrix)"
      ],
      "metadata": {
        "colab": {
          "base_uri": "https://localhost:8080/"
        },
        "id": "4QVlJBAP_hiD",
        "outputId": "5e3fd10c-7211-4466-b8a5-9ea11b4ab25f"
      },
      "execution_count": null,
      "outputs": [
        {
          "output_type": "stream",
          "name": "stdout",
          "text": [
            "[[1. 0. 0. 0.]\n",
            " [0. 1. 0. 0.]\n",
            " [0. 0. 1. 0.]\n",
            " [0. 0. 0. 1.]]\n",
            "\n",
            " [[1. 0. 0. 0.]\n",
            " [0. 1. 0. 0.]\n",
            " [0. 0. 1. 0.]\n",
            " [0. 0. 0. 1.]]\n"
          ]
        }
      ]
    },
    {
      "cell_type": "code",
      "source": [
        "arr1 = np.array([1,2,3], dtype=np.float64)\n",
        "arr2 = np.array([1,2,3],dtype=np.int32)\n",
        "print(arr1.dtype)\n",
        "print(arr2.dtype)"
      ],
      "metadata": {
        "colab": {
          "base_uri": "https://localhost:8080/"
        },
        "id": "va4Rx5tKAGfG",
        "outputId": "41e71a83-def4-437d-b40f-a365d5f96c71"
      },
      "execution_count": null,
      "outputs": [
        {
          "output_type": "stream",
          "name": "stdout",
          "text": [
            "float64\n",
            "int32\n"
          ]
        }
      ]
    },
    {
      "cell_type": "code",
      "source": [
        "arr = np.array([1,2,3])\n",
        "print(\"Before converting: \",arr,arr.dtype)\n",
        "new_arr = arr.astype('f')\n",
        "print(\"After converting:\",new_arr,new_arr.dtype)"
      ],
      "metadata": {
        "colab": {
          "base_uri": "https://localhost:8080/"
        },
        "id": "vx6q39guA-yJ",
        "outputId": "036262d4-2f2f-40fe-8459-8e951e7423b7"
      },
      "execution_count": null,
      "outputs": [
        {
          "output_type": "stream",
          "name": "stdout",
          "text": [
            "Before converting:  [1 2 3] int64\n",
            "After converting: [1. 2. 3.] float32\n"
          ]
        }
      ]
    },
    {
      "cell_type": "code",
      "source": [
        "arr1 = np.array(10)\n",
        "arr2 = np.random.randn(10)\n",
        "print(\"array 1\\n\",arr1, arr1.dtype)\n",
        "print(\"Array 2\\n\",arr2, arr2.dtype)\n",
        "new_arr = arr1.astype(arr2.dtype)\n",
        "print(\"New Array \\n\",new_arr,new_arr.dtype)"
      ],
      "metadata": {
        "colab": {
          "base_uri": "https://localhost:8080/"
        },
        "id": "E90RMSOHBpL3",
        "outputId": "dd7192be-4997-4753-cba6-538696b96123"
      },
      "execution_count": null,
      "outputs": [
        {
          "output_type": "stream",
          "name": "stdout",
          "text": [
            "array 1\n",
            " 10 int64\n",
            "array 2\n",
            " [ 0.44378243  0.28037721  0.52902526 -0.22159175 -0.70520899 -0.37466897\n",
            "  0.25685933  0.82637692  0.11039319  0.41361614] float64\n",
            "New Array \n",
            " 10.0 float64\n"
          ]
        }
      ]
    },
    {
      "cell_type": "code",
      "source": [
        "str_arr = np.array(['hello','world','numpy'])\n",
        "print(str_arr)"
      ],
      "metadata": {
        "colab": {
          "base_uri": "https://localhost:8080/"
        },
        "id": "pTfokpzPDEiB",
        "outputId": "b91335ed-71bd-4399-b536-186b7b1bf730"
      },
      "execution_count": null,
      "outputs": [
        {
          "output_type": "stream",
          "name": "stdout",
          "text": [
            "['hello' 'world' 'numpy']\n"
          ]
        }
      ]
    },
    {
      "cell_type": "code",
      "source": [
        "import numpy as np\n",
        "a = np.array([1.,2.,3.,4.])\n",
        "b = np.array([5.,6.,7.,8.])\n",
        "print(a+b)#[ 6 8 10 12]\n",
        "print(a-b)#[-4 -4 -4 -4]\n",
        "print(a*b)#[ 5 12 21 32]\n",
        "print(a/b)#[0.2       0.33333333 0.42857143 0.5          ]\n",
        "print(a ** b)#[    1    64    2187 65536]"
      ],
      "metadata": {
        "colab": {
          "base_uri": "https://localhost:8080/"
        },
        "id": "4bxVx0qqDev3",
        "outputId": "56db9d33-d43c-480b-cbce-4c3aa538a375"
      },
      "execution_count": null,
      "outputs": [
        {
          "output_type": "stream",
          "name": "stdout",
          "text": [
            "[ 6.  8. 10. 12.]\n",
            "[-4. -4. -4. -4.]\n",
            "[ 5. 12. 21. 32.]\n",
            "[0.2        0.33333333 0.42857143 0.5       ]\n",
            "[1.0000e+00 6.4000e+01 2.1870e+03 6.5536e+04]\n"
          ]
        }
      ]
    },
    {
      "cell_type": "code",
      "source": [
        "import numpy as np\n",
        "arr = np.arange(12) # Create an array with 12 elements\n",
        "newarr = arr.reshape(4,3)\n",
        "print(newarr)\n",
        "newarr = arr.reshape((4,3),order='F')\n",
        "print(\"\\n\",newarr)"
      ],
      "metadata": {
        "colab": {
          "base_uri": "https://localhost:8080/"
        },
        "id": "_fF1wNalFSpQ",
        "outputId": "28024dc1-52f1-428f-cd98-0ffb5be2c13f"
      },
      "execution_count": null,
      "outputs": [
        {
          "output_type": "stream",
          "name": "stdout",
          "text": [
            "[[ 0  1  2]\n",
            " [ 3  4  5]\n",
            " [ 6  7  8]\n",
            " [ 9 10 11]]\n",
            "\n",
            " [[ 0  4  8]\n",
            " [ 1  5  9]\n",
            " [ 2  6 10]\n",
            " [ 3  7 11]]\n"
          ]
        }
      ]
    },
    {
      "cell_type": "code",
      "source": [
        "import numpy as np\n",
        "arr = np.array([[1,2,3,4,9,10],[5,6,7,8,11,12]])\n",
        "print(arr)\n",
        "newarr = arr.reshape(3,2,2)\n",
        "print(\"\\n\",newarr)\n",
        "newarr1 = newarr.reshape(3,-1)\n",
        "print(\"\\n reshape(3,-1) \\n\",newarr1)"
      ],
      "metadata": {
        "colab": {
          "base_uri": "https://localhost:8080/"
        },
        "id": "Fw3-wk3uGEva",
        "outputId": "f4a034a6-51cc-4369-9a8f-d91047a5be8f"
      },
      "execution_count": null,
      "outputs": [
        {
          "output_type": "stream",
          "name": "stdout",
          "text": [
            "[[ 1  2  3  4  9 10]\n",
            " [ 5  6  7  8 11 12]]\n",
            "\n",
            " [[[ 1  2]\n",
            "  [ 3  4]]\n",
            "\n",
            " [[ 9 10]\n",
            "  [ 5  6]]\n",
            "\n",
            " [[ 7  8]\n",
            "  [11 12]]]\n",
            "\n",
            " reshape(3,-1) \n",
            " [[ 1  2  3  4]\n",
            " [ 9 10  5  6]\n",
            " [ 7  8 11 12]]\n"
          ]
        }
      ]
    },
    {
      "cell_type": "code",
      "source": [
        "'''The flatten() function returns a copy of the array,\n",
        "while the ravel() function returns a view of the original array whenever possible\n",
        "'''\n",
        "original_array = np.array([[10,20],[30,40]])\n",
        "print(\"original array:\\n\", original_array)\n",
        "flattened_array = original_array.flatten()\n",
        "flattened_array[0] = 999\n",
        "print(\"Flattened array:\\n\",flattened_array)\n",
        "print(\"original array:\\n\", original_array)\n",
        "raveled_array = original_array.ravel()\n",
        "raveled_array[1] = 888\n",
        "print(\"raveled array:\\n\",raveled_array)\n",
        "print(\"original array:\\n\", original_array)"
      ],
      "metadata": {
        "colab": {
          "base_uri": "https://localhost:8080/"
        },
        "id": "C-7JEn7oHKSr",
        "outputId": "c514034f-af10-4af0-b136-4602a6814cd2"
      },
      "execution_count": null,
      "outputs": [
        {
          "output_type": "stream",
          "name": "stdout",
          "text": [
            "original array:\n",
            " [[10 20]\n",
            " [30 40]]\n",
            "Flattened array:\n",
            " [999  20  30  40]\n",
            "original array:\n",
            " [[10 20]\n",
            " [30 40]]\n",
            "raveled array:\n",
            " [ 10 888  30  40]\n",
            "original array:\n",
            " [[ 10 888]\n",
            " [ 30  40]]\n"
          ]
        }
      ]
    },
    {
      "cell_type": "code",
      "source": [
        "arr1 = np.array([[1,2],[3,4]])\n",
        "arr2 = np.array([[2,1],[3,5]])\n",
        "greater_than =arr1 > arr2\n",
        "equal_to =arr1 ==arr2\n",
        "less_than = arr1 < arr2 # Added this line to define less_than\n",
        "print(\"greater than:\\n\",greater_than)\n",
        "print(\"\\nLess than:\\n\", less_than) # Corrected the variable name\n",
        "print(\"\\nEqual to:\\n\", equal_to)\n",
        "arr3 = np.array([1, 2, 3])\n",
        "arr4 = np.array([1, 2, 3])\n",
        "arr5 = np.array([1, 2, 4]) # Changed arr5 to be different from arr3 for the second comparison\n",
        "result1 = np.array_equal(arr3,arr4)  # True (Corrected np,array_equal to np.array_equal)\n",
        "result2 = np.array_equal(arr3,arr5)  # False\n",
        "print(\"\\nArray_wise comparsion 1:\",result1)\n",
        "print(\"\\nArray_wise comparsion 2:\", result2) # Corrected the typo \\array_wise"
      ],
      "metadata": {
        "colab": {
          "base_uri": "https://localhost:8080/"
        },
        "id": "IBjPEm93I7ey",
        "outputId": "d0c89a34-9195-4fdd-bff3-47906c8df34b"
      },
      "execution_count": null,
      "outputs": [
        {
          "output_type": "stream",
          "name": "stdout",
          "text": [
            "greater than:\n",
            " [[False  True]\n",
            " [False False]]\n",
            "\n",
            "Less than:\n",
            " [[ True False]\n",
            " [False  True]]\n",
            "\n",
            "Equal to:\n",
            " [[False False]\n",
            " [ True False]]\n",
            "\n",
            "Array_wise comparsion 1: True\n",
            "\n",
            "Array_wise comparsion 2: False\n"
          ]
        }
      ]
    },
    {
      "cell_type": "code",
      "source": [
        "x = np. arange(10)\n",
        "print(\"x= \",x)\n",
        "print(\"\\n x[:5]= \",x[:5])\n",
        "print(\"\\n x[5:]= \",x[5:])\n",
        "print(\"\\n x[4:7]= \",x[4:7])\n",
        "print(\"\\n x[::2]= \",x[::2])\n",
        "print(\"\\n x[1::2]= \",x[1::2])\n",
        "print(\"\\n x[::-1]= \",x[::-1])\n",
        "print(\"\\n x[5::-2]=\",x[5::-2])"
      ],
      "metadata": {
        "colab": {
          "base_uri": "https://localhost:8080/"
        },
        "id": "v0VHendKR_4H",
        "outputId": "24e85b66-e7e4-44dd-e9c9-0a29a60b5949"
      },
      "execution_count": null,
      "outputs": [
        {
          "output_type": "stream",
          "name": "stdout",
          "text": [
            "x=  [0 1 2 3 4 5 6 7 8 9]\n",
            "\n",
            " x[:5]=  [0 1 2 3 4]\n",
            "\n",
            " x[5:]=  [5 6 7 8 9]\n",
            "\n",
            " x[4:7]=  [4 5 6]\n",
            "\n",
            " x[::2]=  [0 2 4 6 8]\n",
            "\n",
            " x[1::2]=  [1 3 5 7 9]\n",
            "\n",
            " x[::-1]=  [9 8 7 6 5 4 3 2 1 0]\n",
            "\n",
            " x[5::-2]= [5 3 1]\n"
          ]
        }
      ]
    },
    {
      "cell_type": "code",
      "source": [
        "x = np.arange(10)\n",
        "print(x)\n",
        "x[5:] = 2\n",
        "print(\"\\n After broadcasting1\",x)\n",
        "x[::2] = 100\n",
        "print(\"\\n After broadcasting2\",x)"
      ],
      "metadata": {
        "colab": {
          "base_uri": "https://localhost:8080/"
        },
        "id": "42mfQGztX9gD",
        "outputId": "e2ef154a-db62-4cbf-9016-842d2ece4da1"
      },
      "execution_count": null,
      "outputs": [
        {
          "output_type": "stream",
          "name": "stdout",
          "text": [
            "[0 1 2 3 4 5 6 7 8 9]\n",
            "\n",
            " After broadcasting1 [0 1 2 3 4 2 2 2 2 2]\n",
            "\n",
            " After broadcasting2 [100   1 100   3 100   2 100   2 100   2]\n"
          ]
        }
      ]
    },
    {
      "cell_type": "code",
      "source": [
        "x2 = np.array([[12,5,2,4],\n",
        "               [7,6,8,8],\n",
        "               [1,6,8,8]])\n",
        "print(x2[0])\n",
        "print(x2[2,0])\n",
        "print(x2[1][2])\n",
        "print(x2[2,-1])\n",
        "print(x2[0])"
      ],
      "metadata": {
        "colab": {
          "base_uri": "https://localhost:8080/"
        },
        "id": "vR27KTqDYsGh",
        "outputId": "2d1c0296-9f1e-4331-98a1-dd77f489e7ba"
      },
      "execution_count": null,
      "outputs": [
        {
          "output_type": "stream",
          "name": "stdout",
          "text": [
            "[12  5  2  4]\n",
            "1\n",
            "8\n",
            "8\n",
            "[12  5  2  4]\n"
          ]
        }
      ]
    },
    {
      "cell_type": "code",
      "source": [
        "x2 = np.array([[12,5,2,4],[7,6,8,8],[1,6,7,7]])\n",
        "print(\"x2= \",x2)\n",
        "print(\"\\n x2[:2,:3] = \\n\",x2[:2, :3])\n",
        "print(\"\\n x2[:3, ::2] = \\n\",x2[:3, ::2])\n",
        "print(\"\\n x2[::-1, ::-1] = \\n\",x2[::-1, ::-1])\n",
        "print(\"\\n x2[::-1]= \\n\",x2[::-1])"
      ],
      "metadata": {
        "colab": {
          "base_uri": "https://localhost:8080/"
        },
        "id": "u4JRjxPSY1UA",
        "outputId": "b95042ba-3429-4c61-e5ce-93a2d12b79d8"
      },
      "execution_count": null,
      "outputs": [
        {
          "output_type": "stream",
          "name": "stdout",
          "text": [
            "x2=  [[12  5  2  4]\n",
            " [ 7  6  8  8]\n",
            " [ 1  6  7  7]]\n",
            "\n",
            " x2[:2,:3] = \n",
            " [[12  5  2]\n",
            " [ 7  6  8]]\n",
            "\n",
            " x2[:3, ::2] = \n",
            " [[12  2]\n",
            " [ 7  8]\n",
            " [ 1  7]]\n",
            "\n",
            " x2[::-1, ::-1] = \n",
            " [[ 7  7  6  1]\n",
            " [ 8  8  6  7]\n",
            " [ 4  2  5 12]]\n",
            "\n",
            " x2[::-1]= \n",
            " [[ 1  6  7  7]\n",
            " [ 7  6  8  8]\n",
            " [12  5  2  4]]\n"
          ]
        }
      ]
    },
    {
      "cell_type": "code",
      "source": [
        "import numpy as np\n",
        "a=np.arange(12).reshape(3,4)\n",
        "print(\"a= \\n\",a)\n",
        "b = a > 4\n",
        "print(\"b= \\n\",b)\n",
        "print(\"a[b]= \\n\",a[b])\n",
        "a[b] = 1\n",
        "print(\"a= \\n\",a)"
      ],
      "metadata": {
        "colab": {
          "base_uri": "https://localhost:8080/"
        },
        "id": "2hITrXkzbXN9",
        "outputId": "4f7eab46-3623-4ba9-b5b4-b00a9ecbadd8"
      },
      "execution_count": null,
      "outputs": [
        {
          "output_type": "stream",
          "name": "stdout",
          "text": [
            "a= \n",
            " [[ 0  1  2  3]\n",
            " [ 4  5  6  7]\n",
            " [ 8  9 10 11]]\n",
            "b= \n",
            " [[False False False False]\n",
            " [False  True  True  True]\n",
            " [ True  True  True  True]]\n",
            "a[b]= \n",
            " [ 5  6  7  8  9 10 11]\n",
            "a= \n",
            " [[0 1 2 3]\n",
            " [4 1 1 1]\n",
            " [1 1 1 1]]\n"
          ]
        }
      ]
    },
    {
      "cell_type": "code",
      "source": [
        "names = np.array(['Bob','joe','will','bob','will','joe','joe'])\n",
        "data = np.arange(28).reshape(7,4)\n",
        "print(names)\n",
        "print(\"data=\\n\",data)\n",
        "print(\"names bool= \\n\",names == 'Bob')\n",
        "print(\"names == 'Bob' \\n\",data[names =='Bob'])\n",
        "print(\"names == 'Bob' ,2: \\n\",data[names =='Bob',2:])\n",
        "print(\"names == 'Bob' ,3: \\n\",data[names =='Bob',3:])\n"
      ],
      "metadata": {
        "colab": {
          "base_uri": "https://localhost:8080/"
        },
        "id": "2cLfl5AKckZH",
        "outputId": "07f7ca2f-b699-4fb7-9715-0f09859c41c7"
      },
      "execution_count": null,
      "outputs": [
        {
          "output_type": "stream",
          "name": "stdout",
          "text": [
            "['Bob' 'joe' 'will' 'bob' 'will' 'joe' 'joe']\n",
            "data=\n",
            " [[ 0  1  2  3]\n",
            " [ 4  5  6  7]\n",
            " [ 8  9 10 11]\n",
            " [12 13 14 15]\n",
            " [16 17 18 19]\n",
            " [20 21 22 23]\n",
            " [24 25 26 27]]\n",
            "names bool= \n",
            " [ True False False False False False False]\n",
            "names == 'Bob' \n",
            " [[0 1 2 3]]\n",
            "names == 'Bob' ,2: \n",
            " [[2 3]]\n",
            "names == 'Bob' ,3: \n",
            " [[3]]\n"
          ]
        }
      ]
    },
    {
      "cell_type": "code",
      "source": [
        "arr = np.arange(32).reshape(8,4)\n",
        "print(\"arr= \\n\",arr)\n",
        "print(\"\\narr[[1,5,7,2]]= \\n\",arr[[1,5,7,2]])\n",
        "print(\"\\narr[[1,5,7,2],[0,3,1,2]]= \\n\",arr[[1,5,7,2],[0,3,1,2]])\n",
        "print(\"\\narr[[1,5,7,2]] [:,[0,3,1,2]]= \\n\",arr[[1,5,7,2]][:,[0,3,1,2]])\n",
        "print(\"\\n arr[[-3,-5,-7]]\\n\",arr[[-3,-5,-7]])\n",
        "arr[[1,5,7,2]] = 1\n",
        "print(\"\\narr= \\n\",arr)"
      ],
      "metadata": {
        "colab": {
          "base_uri": "https://localhost:8080/"
        },
        "id": "v-RWU7R-fKJF",
        "outputId": "0f5bebb3-d4c6-48c8-c1c1-12016bf8769c"
      },
      "execution_count": null,
      "outputs": [
        {
          "output_type": "stream",
          "name": "stdout",
          "text": [
            "arr= \n",
            " [[ 0  1  2  3]\n",
            " [ 4  5  6  7]\n",
            " [ 8  9 10 11]\n",
            " [12 13 14 15]\n",
            " [16 17 18 19]\n",
            " [20 21 22 23]\n",
            " [24 25 26 27]\n",
            " [28 29 30 31]]\n",
            "\n",
            "arr[[1,5,7,2]]= \n",
            " [[ 4  5  6  7]\n",
            " [20 21 22 23]\n",
            " [28 29 30 31]\n",
            " [ 8  9 10 11]]\n",
            "\n",
            "arr[[1,5,7,2],[0,3,1,2]]= \n",
            " [ 4 23 29 10]\n",
            "\n",
            "arr[[1,5,7,2]] [:,[0,3,1,2]]= \n",
            " [[ 4  7  5  6]\n",
            " [20 23 21 22]\n",
            " [28 31 29 30]\n",
            " [ 8 11  9 10]]\n",
            "\n",
            " arr[[-3,-5,-7]]\n",
            " [[20 21 22 23]\n",
            " [12 13 14 15]\n",
            " [ 4  5  6  7]]\n",
            "\n",
            "arr= \n",
            " [[ 0  1  2  3]\n",
            " [ 1  1  1  1]\n",
            " [ 1  1  1  1]\n",
            " [12 13 14 15]\n",
            " [16 17 18 19]\n",
            " [ 1  1  1  1]\n",
            " [24 25 26 27]\n",
            " [ 1  1  1  1]]\n"
          ]
        }
      ]
    },
    {
      "cell_type": "code",
      "source": [
        "import numpy as np\n",
        "arr = np.arange(12).reshape((3,4))\n",
        "print(arr)\n",
        "print(\"Transpose using .T\")\n",
        "print(\"Transpose using the transpose() function\")\n",
        "print(np.transpose(arr))"
      ],
      "metadata": {
        "colab": {
          "base_uri": "https://localhost:8080/"
        },
        "id": "YuVp57f_jiys",
        "outputId": "d66d2381-feed-44c9-ebdd-61b142482035"
      },
      "execution_count": null,
      "outputs": [
        {
          "output_type": "stream",
          "name": "stdout",
          "text": [
            "[[ 0  1  2  3]\n",
            " [ 4  5  6  7]\n",
            " [ 8  9 10 11]]\n",
            "Transpose using .T\n",
            "Transpose using the transpose() function\n",
            "[[ 0  4  8]\n",
            " [ 1  5  9]\n",
            " [ 2  6 10]\n",
            " [ 3  7 11]]\n"
          ]
        }
      ]
    },
    {
      "cell_type": "code",
      "source": [
        "arr1=np.transpose(arr,(1,0))\n",
        "print(arr1)\n",
        "arr2=np.transpose(arr,(0,1))\n",
        "print(arr2)"
      ],
      "metadata": {
        "colab": {
          "base_uri": "https://localhost:8080/"
        },
        "id": "umle9v6DkPPT",
        "outputId": "acc5c2b7-2f37-4b9f-9c3b-3bfd63e3888a"
      },
      "execution_count": null,
      "outputs": [
        {
          "output_type": "stream",
          "name": "stdout",
          "text": [
            "[[ 0  4  8]\n",
            " [ 1  5  9]\n",
            " [ 2  6 10]\n",
            " [ 3  7 11]]\n",
            "[[ 0  1  2  3]\n",
            " [ 4  5  6  7]\n",
            " [ 8  9 10 11]]\n"
          ]
        }
      ]
    },
    {
      "cell_type": "code",
      "source": [
        "import numpy as np\n",
        "arr = np.arange(12).reshape((3,4))\n",
        "print(\"Dot product of arr and arr2:\")\n",
        "print(np.dot(arr,arr.T))"
      ],
      "metadata": {
        "colab": {
          "base_uri": "https://localhost:8080/"
        },
        "id": "LbZVw__RkikQ",
        "outputId": "3a262e73-ab53-48b2-b740-0eb4ca0be6ee"
      },
      "execution_count": null,
      "outputs": [
        {
          "output_type": "stream",
          "name": "stdout",
          "text": [
            "Dot product of arr and arr2:\n",
            "[[ 14  38  62]\n",
            " [ 38 126 214]\n",
            " [ 62 214 366]]\n"
          ]
        }
      ]
    },
    {
      "cell_type": "code",
      "source": [
        "arr + np.arange(12).reshape((3,4))\n",
        "print(arr)\n",
        "print(\"swap axes 0 and 1:\")\n",
        "print(np.swapaxes(arr,0,1))"
      ],
      "metadata": {
        "colab": {
          "base_uri": "https://localhost:8080/"
        },
        "id": "rmqUvE-wlETr",
        "outputId": "4ec092be-28c1-4c4a-b363-1be4bf06079c"
      },
      "execution_count": null,
      "outputs": [
        {
          "output_type": "stream",
          "name": "stdout",
          "text": [
            "[[ 0  1  2  3]\n",
            " [ 4  5  6  7]\n",
            " [ 8  9 10 11]]\n",
            "swap axes 0 and 1:\n",
            "[[ 0  4  8]\n",
            " [ 1  5  9]\n",
            " [ 2  6 10]\n",
            " [ 3  7 11]]\n"
          ]
        }
      ]
    },
    {
      "cell_type": "code",
      "source": [
        "import numpy as np\n",
        "arr1 = np.array([[1,2],\n",
        "                 [3,4]])\n",
        "arr2 = np.array([[5,6],\n",
        "                 [7,8]])\n",
        "result = np.multiply(arr1,arr2)\n",
        "print(\"result of element-wise multiplication:\")\n",
        "print(result)\n",
        "result = np.matmul(arr1,arr2)\n",
        "print(\"result of matrix multiplication\")\n",
        "print(result)"
      ],
      "metadata": {
        "colab": {
          "base_uri": "https://localhost:8080/"
        },
        "id": "OGI9J-W6lic8",
        "outputId": "23833b54-d107-4d39-c57f-f292f83cb48d"
      },
      "execution_count": null,
      "outputs": [
        {
          "output_type": "stream",
          "name": "stdout",
          "text": [
            "result of element-wise multiplication:\n",
            "[[ 5 12]\n",
            " [21 32]]\n",
            "result of matrix multiplication\n",
            "[[19 22]\n",
            " [43 50]]\n"
          ]
        }
      ]
    },
    {
      "cell_type": "code",
      "source": [
        "result = np. matmul(arr1, arr2)\n",
        "print(result)"
      ],
      "metadata": {
        "colab": {
          "base_uri": "https://localhost:8080/"
        },
        "id": "0ONNZ72Gm_JR",
        "outputId": "03e80129-f9c1-4cbf-892a-5cdf8617729a"
      },
      "execution_count": null,
      "outputs": [
        {
          "output_type": "stream",
          "name": "stdout",
          "text": [
            "[[19 22]\n",
            " [43 50]]\n"
          ]
        }
      ]
    },
    {
      "cell_type": "code",
      "source": [
        "result = np.dot(arr1,arr2)\n",
        "print(\"result of matrix multiplication\")\n",
        "print(result)"
      ],
      "metadata": {
        "colab": {
          "base_uri": "https://localhost:8080/"
        },
        "id": "olHed1g2m-oO",
        "outputId": "928ad83e-6366-4b3b-9119-5b404c9f1667"
      },
      "execution_count": null,
      "outputs": [
        {
          "output_type": "stream",
          "name": "stdout",
          "text": [
            "result of matrix multiplication\n",
            "[[19 22]\n",
            " [43 50]]\n"
          ]
        }
      ]
    },
    {
      "cell_type": "markdown",
      "source": [],
      "metadata": {
        "id": "1n1iOq2IWcG-"
      }
    },
    {
      "cell_type": "markdown",
      "source": [],
      "metadata": {
        "id": "eBKxwBj4FSTC"
      }
    }
  ]
}