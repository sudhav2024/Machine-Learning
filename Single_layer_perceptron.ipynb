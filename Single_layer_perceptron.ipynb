{
  "nbformat": 4,
  "nbformat_minor": 0,
  "metadata": {
    "colab": {
      "provenance": [],
      "authorship_tag": "ABX9TyMSDmZdjREqgQLtcMYgHYkv",
      "include_colab_link": true
    },
    "kernelspec": {
      "name": "python3",
      "display_name": "Python 3"
    },
    "language_info": {
      "name": "python"
    }
  },
  "cells": [
    {
      "cell_type": "markdown",
      "metadata": {
        "id": "view-in-github",
        "colab_type": "text"
      },
      "source": [
        "<a href=\"https://colab.research.google.com/github/sudhav2024/Machine-Learning/blob/main/Single_layer_perceptron.ipynb\" target=\"_parent\"><img src=\"https://colab.research.google.com/assets/colab-badge.svg\" alt=\"Open In Colab\"/></a>"
      ]
    },
    {
      "cell_type": "code",
      "source": [
        "import numpy as np\n",
        "\n",
        "inputs = np.array([[0, 0], [0, 1], [1, 0], [1, 1]])\n",
        "desired_outputs = np.array([0, 0, 0, 1])\n",
        "\n",
        "w1, w2 = 0.3, -0.2\n",
        "b = -0.4\n",
        "learning_rate = 0.2\n",
        "threshold = 0.4\n",
        "epochs = 10\n",
        "\n",
        "for epoch in range(epochs):\n",
        "    print(f\"Epoch {epoch + 1}\")\n",
        "    for i, (x1, x2) in enumerate(inputs):\n",
        "        net_input = w1 * x1 + w2 * x2 + b\n",
        "\n",
        "        output = 1 if net_input >= threshold else 0\n",
        "\n",
        "        error = desired_outputs[i] - output\n",
        "\n",
        "        if error != 0:\n",
        "            w1 += learning_rate * error * x1\n",
        "            w2 += learning_rate * error * x2\n",
        "            b += learning_rate * error\n",
        "            print(f\"  For input ({x1}, {x2}): error = {error}, weights updated to w1 = {w1}, w2 = {w2}, b = {b}\")\n",
        "        else:\n",
        "            print(f\"  For input ({x1}, {x2}): no change, output = {output}\")\n",
        "\n",
        "    print(\"\\n\")\n",
        "\n",
        "print(f\"Final weights: w1 = {w1}, w2 = {w2}, b = {b}\")\n"
      ],
      "metadata": {
        "colab": {
          "base_uri": "https://localhost:8080/"
        },
        "id": "6eVLsuBqtYS4",
        "outputId": "e9e4a688-1498-4f8e-c321-ad3081901a4a"
      },
      "execution_count": 8,
      "outputs": [
        {
          "output_type": "stream",
          "name": "stdout",
          "text": [
            "Epoch 1\n",
            "  For input (0, 0): no change, output = 0\n",
            "  For input (0, 1): no change, output = 0\n",
            "  For input (1, 0): no change, output = 0\n",
            "  For input (1, 1): error = 1, weights updated to w1 = 0.5, w2 = 0.0, b = -0.2\n",
            "\n",
            "\n",
            "Epoch 2\n",
            "  For input (0, 0): no change, output = 0\n",
            "  For input (0, 1): no change, output = 0\n",
            "  For input (1, 0): no change, output = 0\n",
            "  For input (1, 1): error = 1, weights updated to w1 = 0.7, w2 = 0.2, b = 0.0\n",
            "\n",
            "\n",
            "Epoch 3\n",
            "  For input (0, 0): no change, output = 0\n",
            "  For input (0, 1): no change, output = 0\n",
            "  For input (1, 0): error = -1, weights updated to w1 = 0.49999999999999994, w2 = 0.2, b = -0.2\n",
            "  For input (1, 1): no change, output = 1\n",
            "\n",
            "\n",
            "Epoch 4\n",
            "  For input (0, 0): no change, output = 0\n",
            "  For input (0, 1): no change, output = 0\n",
            "  For input (1, 0): no change, output = 0\n",
            "  For input (1, 1): no change, output = 1\n",
            "\n",
            "\n",
            "Epoch 5\n",
            "  For input (0, 0): no change, output = 0\n",
            "  For input (0, 1): no change, output = 0\n",
            "  For input (1, 0): no change, output = 0\n",
            "  For input (1, 1): no change, output = 1\n",
            "\n",
            "\n",
            "Epoch 6\n",
            "  For input (0, 0): no change, output = 0\n",
            "  For input (0, 1): no change, output = 0\n",
            "  For input (1, 0): no change, output = 0\n",
            "  For input (1, 1): no change, output = 1\n",
            "\n",
            "\n",
            "Epoch 7\n",
            "  For input (0, 0): no change, output = 0\n",
            "  For input (0, 1): no change, output = 0\n",
            "  For input (1, 0): no change, output = 0\n",
            "  For input (1, 1): no change, output = 1\n",
            "\n",
            "\n",
            "Epoch 8\n",
            "  For input (0, 0): no change, output = 0\n",
            "  For input (0, 1): no change, output = 0\n",
            "  For input (1, 0): no change, output = 0\n",
            "  For input (1, 1): no change, output = 1\n",
            "\n",
            "\n",
            "Epoch 9\n",
            "  For input (0, 0): no change, output = 0\n",
            "  For input (0, 1): no change, output = 0\n",
            "  For input (1, 0): no change, output = 0\n",
            "  For input (1, 1): no change, output = 1\n",
            "\n",
            "\n",
            "Epoch 10\n",
            "  For input (0, 0): no change, output = 0\n",
            "  For input (0, 1): no change, output = 0\n",
            "  For input (1, 0): no change, output = 0\n",
            "  For input (1, 1): no change, output = 1\n",
            "\n",
            "\n",
            "Final weights: w1 = 0.49999999999999994, w2 = 0.2, b = -0.2\n"
          ]
        }
      ]
    }
  ]
}